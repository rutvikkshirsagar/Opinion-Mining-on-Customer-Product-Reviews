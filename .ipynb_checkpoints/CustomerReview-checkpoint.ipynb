# DATA FACTS AND IMPORT
import pandas as pd
Reviewdata=pd.read_csv('train.csv')
Reviewdata.shape
Reviewdata.head()
Reviewdata.info()
Reviewdata.describe().transpose()
count=Reviewdata.isnull().sum().sort_values(ascending=False)
percentage= ((Reviewdata.isnull().sum()/len(Reviewdata)*100)).sort_values(ascending=False)
missing_data= pd.concat([count,percentage],axis=1,keys=['Count','Percentage'])
print('Count and percentage of missing values for columns : ')
missing_data
##Checking for disributuion
import matplotlib.pyplot as plt
%matplotlib inline
print('Percentage for default\n')
print(round(Reviewdata.Is_Response.value_counts(normalize=True)*100,2))
round(Reviewdata.Is_Response.value_counts(normalize=True)*100,2).plot(kind='bar')
plt.title('Percentage Distribution by review type')
plt.show()
Reviewdata.drop(columns=['User_ID', 'Browser_Used','Device_Used'],inplace=True)
import re
import string

def text_clean_1(text):
    text=text.lower()
    text=re.sub('\[.*?\]','',text)
    text=re.sub('[%s]' %re.escape(string.punctuation),'',text)
    text=re.sub('\w\d\w*','',text)
    return text
cleaned1=lambda x: text_clean_1(x)
Reviewdata['cleaned_description']=pd.DataFrame(Reviewdata.Description.apply(cleaned1))
Reviewdata.head(10)
def text_clean_2(text):
    text=re.sub('[''""...]','',text)
    text=re.sub('\n','',text)
    return text
cleaned2=lambda x: text_clean_2(x)
Reviewdata['cleaned_description_new']=pd.DataFrame(Reviewdata['cleaned_description'].apply(cleaned2))
Reviewdata.head(10)
Model Training
from sklearn.model_selection import train_test_split

Independent_var = Reviewdata.cleaned_description_new
Dependent_var=Reviewdata.Is_Response
IV_train, IV_test ,DV_train , DV_test =train_test_split(Independent_var,Dependent_var,test_size=0.1,random_state=225)

print('IV_train :',len(IV_train))
print('IV_test :',len(IV_test))
print('IV_train :',len(DV_train))
print('IV_test :',len(DV_test))

from sklearn.feature_extraction.text import TfidfVectorizer
from sklearn.linear_model import LogisticRegression

tvec = TfidfVectorizer()
clf2 = LogisticRegression(solver = "lbfgs")

from sklearn.pipeline import Pipeline
model = Pipeline([('vectorizer',tvec),('classifier',clf2)])
model.fit(IV_train , DV_train)

from sklearn.metrics import confusion_matrix

predictions = model.predict(IV_test)

confusion_matrix(predictions, DV_test)


from sklearn.metrics import accuracy_score , precision_score , recall_score

print("Accuracy :", accuracy_score(predictions ,DV_test))
print("Precision : ", precision_score(predictions,DV_test,average="weighted"))
print("Recall :",recall_score(predictions, DV_test , average="weighted"))
Trying new reviews
example=['its a worst product']
result=model.predict(example)
print(result)

model = Pipeline([('vectorizer',tvec),('classifier',clf2)])
model.fit(IV_train , DV_train)

from tkinter import *

def submit():
    global label1
    global labell
    global bg
    global label
    global review
    global mybutton
    global delbutton
    x= str(review.get())
    y=[x]
    s=model.predict(y)
    result=s[0]
    if(x==''):
        bg=PhotoImage(file="noinput.png")
        labell=Label(image=bg)
        labell.place(x=0,y=0)
        label1=Label(root,text=" ",font='comicsansms 10 bold',bg="red3",fg="white")
        label1.grid(row=0,column=0)
        label1.place(x=78,y=255)
    elif(result=='happy'):
        bg=PhotoImage(file="Green.png")
        
        labell=Label(image=bg)
        labell.place(x=0,y=0)
        label1=Label(root,text=("CUSTOMER STATUS\nSATISFIED "),font='comicsansms 10 bold',bg="green",fg="white")
        label1.grid(row=0,column=0)
        label1.place(x=590,y=255)
        
    elif(result=='not happy'):
        bg=PhotoImage(file="Red.png")
        labell=Label(image=bg)
        labell.place(x=0,y=0)
        label1=Label(root,text="CUSTOMER STATUS\nUNSATISFIED",font='comicsansms 10 bold',bg="red3",fg="white")
        label1.grid(row=0,column=0)
        label1.place(x=78,y=255)
    
        
    root.title("Customer Review Opinion Mining")
    label=Label(root,text=" CUSTOMER REVIEW ANALYSER ",font='comicsansms 15',bg="black",fg="white")
    label.grid(row=0,column=0)
    label.place(x=239,y=6.5)
    label2=Label(root,text=" Enter your review below : ",font='comicsansms 10')
    label2.grid(row=0,column=0)
    label2.place(x=317,y=90)
    review=Entry(root,width=49,borderwidth=3)
    review.grid(row=0,column=1,rowspan=2)
    review.place(x=249,y=118)
    mybutton=Button(root,text="SUBMIT",command=submit,padx=15,font='comicsansms 10 bold',width=8)
    mybutton.grid(row=2,column=1)
    mybutton.place(x=348,y=147)
    delbutton=Button(root,text="RESET",command=delete,padx=15,font='comicsansms 10 bold',width=8)
    delbutton.grid(row=3,column=1)
    delbutton.place(x=348,y=180)
    
    
    

    
def delete():
    label1.destroy()
    global labell
    global bg
    global label
    global review
    global mybutton
    global delbutton
    bg=PhotoImage(file="Background.png")
    labell=Label(image=bg)
    labell.place(x=-2,y=0)
    root.title("Customer Review Opinion Mining")
    label=Label(root,text="CUSTOMER REVIEW ANALYSER",font='comicsansms 15')
    label.grid(row=0,column=0)
    label.place(x=239,y=6.5)
    label2=Label(root,text=" Enter your review below : ",font='comicsansms 10')
    label2.grid(row=0,column=0)
    label2.place(x=317,y=90)
    review=Entry(root,width=49,borderwidth=3)
    review.grid(row=0,column=1,rowspan=2)
    review.place(x=249,y=118)
    mybutton=Button(root,text="SUBMIT",command=submit,padx=15,font='comicsansms 10 bold',width=8)
    mybutton.grid(row=2,column=1)
    mybutton.place(x=348,y=147)
    delbutton=Button(root,text="RESET",command=delete,padx=15,font='comicsansms 10 bold',width=8)
    delbutton.grid(row=3,column=1)
    delbutton.place(x=348,y=180)
    





root=Tk()
root.geometry("805x500")
root.minsize(805,500)
root.maxsize(805,500)
root.title("Customer Review Opinion Mining")

bg=PhotoImage(file="Background.png")
labell=Label(image=bg)
labell.place(x=-2,y=0)

label=Label(root,text=" CUSTOMER REVIEW ANALYSER ",font='comicsansms 15')
label.grid(row=0,column=0)
label.place(x=239,y=6.5)

label2=Label(root,text=" Enter your review below : ",font='comicsansms 10')
label2.grid(row=0,column=0)
label2.place(x=317,y=90)

review=Entry(root,width=49,borderwidth=3)
review.grid(row=0,column=1,rowspan=2)
review.place(x=249,y=118)

mybutton=Button(root,text="SUBMIT",command=submit,padx=15,font='comicsansms 10 bold',width=8)
mybutton.grid(row=2,column=1)
mybutton.place(x=348,y=147)


delbutton=Button(root,text="RESET",command=delete,padx=15,font='comicsansms 10 bold',width=8)
delbutton.grid(row=3,column=1)
delbutton.place(x=348,y=180)

root.mainloop()
